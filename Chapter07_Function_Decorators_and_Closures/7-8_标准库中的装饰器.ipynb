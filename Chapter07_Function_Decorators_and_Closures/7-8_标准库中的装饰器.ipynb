{
 "cells": [
  {
   "cell_type": "markdown",
   "metadata": {},
   "source": [
    "## functools.lru_cache做缓存\n",
    "\n",
    "lru:least recently used\n",
    "\n",
    "递归生成斐波那契数列，会有很多重复的函数调用。先不缓存，看看耗时"
   ]
  },
  {
   "cell_type": "code",
   "execution_count": 2,
   "metadata": {},
   "outputs": [
    {
     "name": "stdout",
     "output_type": "stream",
     "text": [
      "[0.00000061s] fibonacci(0) -> 0\n",
      "[0.00000068s] fibonacci(1) -> 1\n",
      "[0.00094844s] fibonacci(2) -> 1\n",
      "[0.00000044s] fibonacci(1) -> 1\n",
      "[0.00000056s] fibonacci(0) -> 0\n",
      "[0.00000042s] fibonacci(1) -> 1\n",
      "[0.00015001s] fibonacci(2) -> 1\n",
      "[0.00030090s] fibonacci(3) -> 2\n",
      "[0.00150372s] fibonacci(4) -> 3\n",
      "[0.00000033s] fibonacci(1) -> 1\n",
      "[0.00000035s] fibonacci(0) -> 0\n",
      "[0.00000041s] fibonacci(1) -> 1\n",
      "[0.00014834s] fibonacci(2) -> 1\n",
      "[0.00029618s] fibonacci(3) -> 2\n",
      "[0.00000030s] fibonacci(0) -> 0\n",
      "[0.00000043s] fibonacci(1) -> 1\n",
      "[0.00018388s] fibonacci(2) -> 1\n",
      "[0.00000040s] fibonacci(1) -> 1\n",
      "[0.00000051s] fibonacci(0) -> 0\n",
      "[0.00000043s] fibonacci(1) -> 1\n",
      "[0.00015891s] fibonacci(2) -> 1\n",
      "[0.00031845s] fibonacci(3) -> 2\n",
      "[0.00067986s] fibonacci(4) -> 3\n",
      "[0.00119554s] fibonacci(5) -> 5\n",
      "[0.00285315s] fibonacci(6) -> 8\n"
     ]
    },
    {
     "data": {
      "text/plain": [
       "8"
      ]
     },
     "execution_count": 2,
     "metadata": {},
     "output_type": "execute_result"
    }
   ],
   "source": [
    "import time\n",
    "\n",
    "# 一个给函数计时的装饰器\n",
    "\n",
    "def clock(func):\n",
    "    def clocked(*args):\n",
    "        t0 = time.perf_counter()\n",
    "        result = func(*args)\n",
    "        elapsed = time.perf_counter() - t0\n",
    "        name = func.__name__\n",
    "        arg_str = ', '.join(repr(arg) for arg in args)\n",
    "        print('[%0.8fs] %s(%s) -> %r' % (elapsed, name, arg_str, result))\n",
    "        return result\n",
    "    return clocked\n",
    "\n",
    "@clock\n",
    "def fibonacci(n):\n",
    "    if n < 2:\n",
    "        return n\n",
    "    return fibonacci(n-2) + fibonacci(n-1)\n",
    "\n",
    "fibonacci(6)"
   ]
  },
  {
   "cell_type": "code",
   "execution_count": 4,
   "metadata": {},
   "outputs": [
    {
     "name": "stdout",
     "output_type": "stream",
     "text": [
      "[0.00000090s] fibonacci(0) -> 0\n",
      "[0.00000073s] fibonacci(1) -> 1\n",
      "[0.00163372s] fibonacci(2) -> 1\n",
      "[0.00000092s] fibonacci(3) -> 2\n",
      "[0.00179184s] fibonacci(4) -> 3\n",
      "[0.00000071s] fibonacci(5) -> 5\n",
      "[0.00194680s] fibonacci(6) -> 8\n"
     ]
    },
    {
     "data": {
      "text/plain": [
       "8"
      ]
     },
     "execution_count": 4,
     "metadata": {},
     "output_type": "execute_result"
    }
   ],
   "source": [
    "import functools\n",
    "\n",
    "@functools.lru_cache()   # 这里有括号，因为这个装饰器可以接受参数\n",
    "@clock\n",
    "def fibonacci(n):\n",
    "    if n < 2:\n",
    "        return n\n",
    "    return fibonacci(n-2) + fibonacci(n-1)\n",
    "\n",
    "fibonacci(6)             # 可以看到没有了重复的调用"
   ]
  }
 ],
 "metadata": {
  "kernelspec": {
   "display_name": "Python 3",
   "language": "python",
   "name": "python3"
  },
  "language_info": {
   "codemirror_mode": {
    "name": "ipython",
    "version": 3
   },
   "file_extension": ".py",
   "mimetype": "text/x-python",
   "name": "python",
   "nbconvert_exporter": "python",
   "pygments_lexer": "ipython3",
   "version": "3.8.3"
  },
  "toc": {
   "base_numbering": 1,
   "nav_menu": {},
   "number_sections": true,
   "sideBar": true,
   "skip_h1_title": false,
   "title_cell": "Table of Contents",
   "title_sidebar": "Contents",
   "toc_cell": false,
   "toc_position": {},
   "toc_section_display": true,
   "toc_window_display": false
  }
 },
 "nbformat": 4,
 "nbformat_minor": 4
}
