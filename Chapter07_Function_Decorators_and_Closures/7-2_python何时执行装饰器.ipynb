{
 "cells": [
  {
   "cell_type": "markdown",
   "metadata": {},
   "source": [
    "装饰器在模块被加载的时候，就会执行"
   ]
  },
  {
   "cell_type": "code",
   "execution_count": 1,
   "metadata": {},
   "outputs": [
    {
     "name": "stdout",
     "output_type": "stream",
     "text": [
      "running register(<function f1 at 0x7fc01c2c7d30>)\n",
      "running register(<function f2 at 0x7fc01c2c7dc0>)\n",
      "running main()\n",
      "registry -> [<function f1 at 0x7fc01c2c7d30>, <function f2 at 0x7fc01c2c7dc0>]\n",
      "running f1()\n",
      "running f2()\n",
      "running f3()\n"
     ]
    }
   ],
   "source": [
    "# registration.py\n",
    "\n",
    "registry = []\n",
    "\n",
    "def register(func):\n",
    "    print('running register(%s)' % func)\n",
    "    registry.append(func)\n",
    "    return func\n",
    "\n",
    "\n",
    "@register\n",
    "def f1():\n",
    "    print('running f1()')\n",
    "    \n",
    "\n",
    "@register\n",
    "def f2():\n",
    "    print('running f2()')\n",
    "    \n",
    "\n",
    "def f3():\n",
    "    print('running f3()')\n",
    "\n",
    "\n",
    "def main():\n",
    "    print('running main()')\n",
    "    print('registry ->', registry)\n",
    "    f1()\n",
    "    f2()\n",
    "    f3()\n",
    "\n",
    "\n",
    "main()   # 直接运行时，可以看到装饰器是在所有函数执行前就执行完了。在main之前"
   ]
  },
  {
   "cell_type": "markdown",
   "metadata": {},
   "source": [
    "作为模块import的而不执行main的话。可以看到装饰器还是会执行\n",
    "\n",
    "```python\n",
    ">>> import registration\n",
    "running register(<function f1 at 0x10cfccb90>)\n",
    "running register(<function f2 at 0x10cfccc20>)\n",
    ">>> registration.registry\n",
    "[<function f1 at 0x10cfccb90>, <function f2 at 0x10cfccc20>]\n",
    "```"
   ]
  }
 ],
 "metadata": {
  "kernelspec": {
   "display_name": "Python 3",
   "language": "python",
   "name": "python3"
  },
  "language_info": {
   "codemirror_mode": {
    "name": "ipython",
    "version": 3
   },
   "file_extension": ".py",
   "mimetype": "text/x-python",
   "name": "python",
   "nbconvert_exporter": "python",
   "pygments_lexer": "ipython3",
   "version": "3.8.3"
  },
  "toc": {
   "base_numbering": 1,
   "nav_menu": {},
   "number_sections": true,
   "sideBar": true,
   "skip_h1_title": false,
   "title_cell": "Table of Contents",
   "title_sidebar": "Contents",
   "toc_cell": false,
   "toc_position": {},
   "toc_section_display": true,
   "toc_window_display": false
  }
 },
 "nbformat": 4,
 "nbformat_minor": 4
}
