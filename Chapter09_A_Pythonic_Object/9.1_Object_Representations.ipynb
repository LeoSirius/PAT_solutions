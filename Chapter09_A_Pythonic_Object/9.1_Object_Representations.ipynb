{
 "cells": [
  {
   "cell_type": "markdown",
   "metadata": {},
   "source": [
    "# Object Representations\n",
    "\n",
    "对象字符串表达的两个方法\n",
    "\n",
    "- repr() 给发开着看，需要实现\\__repr__()\n",
    "- str() 给用户看，需要实现\\__str__()\n",
    "\n",
    "其实还有两个\n",
    "\n",
    "- \\__bytes__() 在调用bytes()时使用\n",
    "- \\__formats__() 在调用format()时使用\n",
    "\n",
    "repr, str, formats返回的都是str类型，bytes返回的是bytes类型"
   ]
  },
  {
   "cell_type": "code",
   "execution_count": null,
   "metadata": {},
   "outputs": [],
   "source": []
  }
 ],
 "metadata": {
  "kernelspec": {
   "display_name": "Python 3",
   "language": "python",
   "name": "python3"
  },
  "language_info": {
   "codemirror_mode": {
    "name": "ipython",
    "version": 3
   },
   "file_extension": ".py",
   "mimetype": "text/x-python",
   "name": "python",
   "nbconvert_exporter": "python",
   "pygments_lexer": "ipython3",
   "version": "3.7.3"
  },
  "toc": {
   "base_numbering": 1,
   "nav_menu": {},
   "number_sections": true,
   "sideBar": true,
   "skip_h1_title": false,
   "title_cell": "Table of Contents",
   "title_sidebar": "Contents",
   "toc_cell": false,
   "toc_position": {},
   "toc_section_display": true,
   "toc_window_display": false
  }
 },
 "nbformat": 4,
 "nbformat_minor": 2
}
