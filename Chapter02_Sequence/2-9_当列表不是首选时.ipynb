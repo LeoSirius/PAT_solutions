{
 "cells": [
  {
   "cell_type": "markdown",
   "metadata": {},
   "source": [
    "## 数组\n",
    "\n",
    "如果元素只包含相同类型的数字，array的效率会更高\n",
    "\n",
    "```python\n",
    ">>> from array import array\n",
    ">>> from random import random\n",
    ">>> floats = array('d', (random() for i in range(10**7)))\n",
    ">>> floats[-1]\n",
    "0.7131888920751795\n",
    "\n",
    "# 写到文件里 array.tofile\n",
    ">>> fp = open('floats.bin', 'wb')\n",
    ">>> floats.tofile(fp)\n",
    ">>> fp.close()\n",
    "\n",
    "# 从文件中读 array.fromfile\n",
    ">>> floats2 = array('d')\n",
    ">>> fp = open('floats.bin', 'rb')\n",
    ">>> floats2.fromfile(fp, 10**7)\n",
    ">>> fp.close()\n",
    "\n",
    "# floats和floats2值是一样的\n",
    ">>> floats2[-1]\n",
    "0.7131888920751795\n",
    ">>> floats2[-1] == floats[-1]\n",
    "True\n",
    ">>> floats2 == floats\n",
    "True\n",
    "```"
   ]
  },
  {
   "cell_type": "code",
   "execution_count": null,
   "metadata": {},
   "outputs": [],
   "source": []
  }
 ],
 "metadata": {
  "kernelspec": {
   "display_name": "Python 3",
   "language": "python",
   "name": "python3"
  },
  "language_info": {
   "codemirror_mode": {
    "name": "ipython",
    "version": 3
   },
   "file_extension": ".py",
   "mimetype": "text/x-python",
   "name": "python",
   "nbconvert_exporter": "python",
   "pygments_lexer": "ipython3",
   "version": "3.8.3"
  },
  "toc": {
   "base_numbering": 1,
   "nav_menu": {},
   "number_sections": true,
   "sideBar": true,
   "skip_h1_title": false,
   "title_cell": "Table of Contents",
   "title_sidebar": "Contents",
   "toc_cell": false,
   "toc_position": {},
   "toc_section_display": true,
   "toc_window_display": false
  }
 },
 "nbformat": 4,
 "nbformat_minor": 4
}
