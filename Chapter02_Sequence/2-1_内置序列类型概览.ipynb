{
 "cells": [
  {
   "cell_type": "markdown",
   "metadata": {},
   "source": [
    "# 内置序列类型概览\n",
    "\n",
    "- 容器序列：可以存放任意类型对象的引用。如list、tuple、collections.deque等\n",
    "- 扁平序列：只能存放基础类型的值。其实一段连续的内存空间，更接近于c的数组\n",
    "\n",
    "另一种分法是把序列分成可变序列和不可变序列。可变序列是不可变序列的子类，多了`__setitem__`, `__delitem__`, `append`, `pop`等方法"
   ]
  }
 ],
 "metadata": {
  "kernelspec": {
   "display_name": "Python 3",
   "language": "python",
   "name": "python3"
  },
  "language_info": {
   "codemirror_mode": {
    "name": "ipython",
    "version": 3
   },
   "file_extension": ".py",
   "mimetype": "text/x-python",
   "name": "python",
   "nbconvert_exporter": "python",
   "pygments_lexer": "ipython3",
   "version": "3.8.3"
  },
  "toc": {
   "base_numbering": 1,
   "nav_menu": {},
   "number_sections": true,
   "sideBar": true,
   "skip_h1_title": false,
   "title_cell": "Table of Contents",
   "title_sidebar": "Contents",
   "toc_cell": false,
   "toc_position": {},
   "toc_section_display": true,
   "toc_window_display": true
  }
 },
 "nbformat": 4,
 "nbformat_minor": 4
}
