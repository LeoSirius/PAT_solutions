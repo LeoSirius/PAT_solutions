{
 "cells": [
  {
   "cell_type": "markdown",
   "metadata": {},
   "source": [
    "映射类型要求key是hashable\n",
    "hashable的两个必要条件\n",
    "\n",
    "- hash值在生命周期内不变__hash__()\n",
    "- hash值能进行比较 __eq__()\n",
    "\n",
    "内建的不可变类型都是hashable。（但是像(1,2,[3,4])是不可hash的，嵌套了list\n",
    "用户自定义类型默认是可以hash的，hash值就是id()"
   ]
  },
  {
   "cell_type": "code",
   "execution_count": 2,
   "metadata": {},
   "outputs": [
    {
     "data": {
      "text/plain": [
       "True"
      ]
     },
     "execution_count": 2,
     "metadata": {},
     "output_type": "execute_result"
    }
   ],
   "source": [
    "from collections import abc\n",
    "isinstance({}, abc.Mapping)"
   ]
  }
 ],
 "metadata": {
  "kernelspec": {
   "display_name": "Python 3",
   "language": "python",
   "name": "python3"
  },
  "language_info": {
   "codemirror_mode": {
    "name": "ipython",
    "version": 3
   },
   "file_extension": ".py",
   "mimetype": "text/x-python",
   "name": "python",
   "nbconvert_exporter": "python",
   "pygments_lexer": "ipython3",
   "version": "3.7.3"
  }
 },
 "nbformat": 4,
 "nbformat_minor": 2
}
